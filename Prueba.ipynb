{
 "cells": [
  {
   "cell_type": "markdown",
   "metadata": {},
   "source": [
    "# Prueba aptitudes analíticas\n",
    "\n",
    "En esta prueba se busca evaluar la capacidad de analizar una base de datos, realizar las transformaciones necesarias, generar un modelo predictivo y evaluar su rendimiento. Para esto se usará una base de datos de ofertas inmobiliarias con variables de la propiedad, variables de las zona, y algunas variables de cercanias a colegios y farmacias. La base se encuentra disponible en LINK y contiene las siguientes variables:\n",
    "\n",
    "* ID_LOCALIDAD:   ID de la división administrativa LOCALIDAD\n",
    "* ID_DISTRITO:    ID de la división administrativa DISTRITO\n",
    "* ID_COMUNA:      ID de la división administrativa COMUNA\n",
    "* lat:            Latitud\n",
    "* lng:            Longitud\n",
    "* precio_f:       Precio de oferta de la propiedad\n",
    "* region:         Región donde se encuentra la propiedad\n",
    "* tipo:           Tipo de propiedad\n",
    "* direccion:      Dirección\n",
    "* descripcion:    Descripción\n",
    "* sup_total:      Superficie Total\n",
    "* sup_util:       Superficie Útil\n",
    "* dormitorios:    Dormitorios\n",
    "* banos:          Baños\n",
    "* antiguedad:     Antigüedad\n",
    "* bodegas:        Bodegas\n",
    "* min_dist_col:   Distancia mínima a un colegio\n",
    "* n_col:          Número de colegios a 1 kilometro\n",
    "* mean_dist_col:  Distancia promedio a los colegios cercanos\n",
    "* min_dist_farm:  Distancia mínima a una farmacia\n",
    "* n_farm:         Número de farmacias a 1 kilometro\n",
    "* mean_dist_farm: Distancia promedio a farmacias cercanas\n",
    "* RH_PERLLEG4:    % de personas en la zona de la propiedad que si nació en otro país, llegó antes de 1990 \n",
    "* CNV_MONPAGVIVP: Promedio Monto de pago por concepto de arriendo o dividendo en la zona de la propiedad \n",
    "* CNH_INGTOTP:    Promedio del ingreso total del hogar corregido en la zona de la propiedad\n",
    "* CNRH_INGOCUP:   Promedio del ingreso ocupación principal\n",
    "\n",
    "El objetivo final será predecir el precio de oferta de la propiedad a partir de el resto de las variables seleccionadas, pudiendose crear más variables si asi lo estiman necesario. \n"
   ]
  },
  {
   "cell_type": "markdown",
   "metadata": {},
   "source": [
    "## 1. Lectura e inspección de base\n",
    "\n",
    "Primero se deberá leer el archivo y verificar la cantidad de registros, variables y el formato de estas."
   ]
  },
  {
   "cell_type": "code",
   "execution_count": null,
   "metadata": {},
   "outputs": [],
   "source": []
  },
  {
   "cell_type": "markdown",
   "metadata": {},
   "source": [
    "## 2. Análisis descriptivo\n",
    "\n",
    "Realizar el análisis descriptivo que estimen pertinente de acuerdo al problema descrito. Este debe ayudarles a tomar algunas decisiones sobre que variables servirán, cuales hay que transformar, registros a omitir, etc. Jumbitos extra a visualizaciones útiles e interesantes."
   ]
  },
  {
   "cell_type": "code",
   "execution_count": null,
   "metadata": {},
   "outputs": [],
   "source": []
  },
  {
   "cell_type": "markdown",
   "metadata": {},
   "source": [
    "## 3. Definición muestra\n",
    "\n",
    "Definir de acuerdo lo inspeccionado anteriormente cual será su muestra final posterior a los filtros pertinentes y a su estrategia de validación que utilizarán para el modelo a estimar. Argumentar las decisiones tomadas en este punto."
   ]
  },
  {
   "cell_type": "code",
   "execution_count": null,
   "metadata": {},
   "outputs": [],
   "source": []
  },
  {
   "cell_type": "markdown",
   "metadata": {},
   "source": [
    "## 4. Estimación de modelo\n",
    "\n",
    "Elección de la metodología de modelamiento y su razón. Estimar el modelo "
   ]
  },
  {
   "cell_type": "code",
   "execution_count": null,
   "metadata": {},
   "outputs": [],
   "source": []
  },
  {
   "cell_type": "markdown",
   "metadata": {},
   "source": [
    "## 5. Evaluación del modelo\n",
    "\n",
    "Elección de las métricas a utilizar para evaluar el rendimiento del modelo asi como la justificación de la elección de métricas utilizadas."
   ]
  },
  {
   "cell_type": "code",
   "execution_count": null,
   "metadata": {},
   "outputs": [],
   "source": []
  },
  {
   "cell_type": "markdown",
   "metadata": {},
   "source": [
    "## 6. Reflexiones finales\n",
    "\n",
    "Reflexiones finales respecto al proceso de modelamiento, potenciales mejoras, bases adicionales interesantes que se podrían ocupar para generar nuevas variables, etc."
   ]
  },
  {
   "cell_type": "code",
   "execution_count": null,
   "metadata": {},
   "outputs": [],
   "source": []
  }
 ],
 "metadata": {
  "interpreter": {
   "hash": "1ee38ef4a5a9feb55287fd749643f13d043cb0a7addaab2a9c224cbe137c0062"
  },
  "kernelspec": {
   "display_name": "Python 3 (ipykernel)",
   "language": "python",
   "name": "python3"
  },
  "language_info": {
   "codemirror_mode": {
    "name": "ipython",
    "version": 3
   },
   "file_extension": ".py",
   "mimetype": "text/x-python",
   "name": "python",
   "nbconvert_exporter": "python",
   "pygments_lexer": "ipython3",
   "version": "3.9.7"
  }
 },
 "nbformat": 4,
 "nbformat_minor": 4
}
